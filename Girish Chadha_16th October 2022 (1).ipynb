{
 "cells": [
  {
   "cell_type": "code",
   "execution_count": 139,
   "id": "bf1f163b",
   "metadata": {},
   "outputs": [],
   "source": [
    "import numpy as np\n",
    "import pandas as pd\n",
    "import matplotlib.pyplot as plt\n",
    "import seaborn as sns\n",
    "import warnings\n",
    "import math\n",
    "import scipy.stats as stats\n",
    "from scipy.stats import ttest_1samp, ttest_ind\n",
    "import matplotlib\n",
    "import statsmodels.stats.api as sm\n",
    "from statsmodels.formula.api import ols\n",
    "from statsmodels.stats.anova import _get_covariance,anova_lm\n",
    "warnings.filterwarnings('ignore')\n",
    "%matplotlib inline"
   ]
  },
  {
   "cell_type": "code",
   "execution_count": 118,
   "id": "08bd56b8",
   "metadata": {},
   "outputs": [],
   "source": [
    "from scipy.stats import uniform\n",
    "from scipy.stats import norm"
   ]
  },
  {
   "cell_type": "markdown",
   "id": "2a3e84f2",
   "metadata": {},
   "source": [
    "Problem 1\n",
    "\n",
    "A physiotherapist with a male football team is interested in studying the relationship between foot injuries and the positions at which the players play from the data collected"
   ]
  },
  {
   "cell_type": "code",
   "execution_count": 3,
   "id": "2fc13a3e",
   "metadata": {},
   "outputs": [
    {
     "data": {
      "image/png": "[encoded data removed]",
      "text/plain": [
       "<IPython.core.display.Image object>"
      ]
     },
     "execution_count": 3,
     "metadata": {
      "image/png": {
       "height": 500,
       "width": 1000
      }
     },
     "output_type": "execute_result"
    }
   ],
   "source": [
    "from IPython.display import Image\n",
    "Image(filename='Screenshot (1).png',width=1000,height=500)"
   ]
  },
  {
   "cell_type": "markdown",
   "id": "95f9fea3",
   "metadata": {},
   "source": [
    "1.1 What is the probability that a randomly chosen player would suffer an injury?"
   ]
  },
  {
   "cell_type": "code",
   "execution_count": 4,
   "id": "8047d6a6",
   "metadata": {},
   "outputs": [
    {
     "name": "stdout",
     "output_type": "stream",
     "text": [
      "Probability that a randomly chosen player would suffer an injury 0.620\n"
     ]
    }
   ],
   "source": [
    "Total_Injured=145\n",
    "Total_Players=235\n",
    "Prob_Injury = round(Total_Injured/Total_Players,2)\n",
    "print('Probability that a randomly chosen player would suffer an injury %2.3f' % Prob_Injury)"
   ]
  },
  {
   "cell_type": "markdown",
   "id": "d482eeee",
   "metadata": {},
   "source": [
    " 1.2 What is the probability that a player is a forward or a winger ?"
   ]
  },
  {
   "cell_type": "code",
   "execution_count": 5,
   "id": "4aef34a0",
   "metadata": {},
   "outputs": [
    {
     "name": "stdout",
     "output_type": "stream",
     "text": [
      "Probability that a randomly chosen player would suffer an injury 0.520\n"
     ]
    }
   ],
   "source": [
    "Total_Forward=94\n",
    "Total_Winger=29\n",
    "Prob_forward = round(Total_Forward/Total_Players,2)\n",
    "Prob_Winger = round(Total_Winger/Total_Players,2)\n",
    "Prob_forwardORWinger= (Prob_forward+Prob_Winger)\n",
    "print('Probability that a randomly chosen player would suffer an injury %2.3f' % Prob_forwardORWinger)"
   ]
  },
  {
   "cell_type": "markdown",
   "id": "7eaf2f87",
   "metadata": {},
   "source": [
    "1.3 What is the probability that a randomly chosen player plays in a striker position and has a foot injury?"
   ]
  },
  {
   "cell_type": "code",
   "execution_count": 6,
   "id": "9f1fba83",
   "metadata": {},
   "outputs": [
    {
     "name": "stdout",
     "output_type": "stream",
     "text": [
      "Probability that a randomly chosen player plays in a striker position and has a foot injury 0.190\n"
     ]
    }
   ],
   "source": [
    "Total_InjuredStriker=45\n",
    "Prob_StrikerandInjured = round(Total_InjuredStriker/Total_Players,2)\n",
    "print('Probability that a randomly chosen player plays in a striker position and has a foot injury %3.3f' % Prob_StrikerandInjured)"
   ]
  },
  {
   "cell_type": "markdown",
   "id": "d474601d",
   "metadata": {},
   "source": [
    "1.4 What is the probability that a randomly chosen injured player is a striker?"
   ]
  },
  {
   "cell_type": "code",
   "execution_count": 7,
   "id": "e84a30a4",
   "metadata": {},
   "outputs": [
    {
     "name": "stdout",
     "output_type": "stream",
     "text": [
      "Probability that a randomly chosen  injured player is a striker 0.310\n"
     ]
    }
   ],
   "source": [
    "Prob_StrikergivenInjured = round(Total_InjuredStriker/Total_Injured,2)\n",
    "print('Probability that a randomly chosen  injured player is a striker %3.3f' % Prob_StrikergivenInjured)"
   ]
  },
  {
   "cell_type": "markdown",
   "id": "84e9ee70",
   "metadata": {},
   "source": [
    "1.5 What is the probability that a randomly chosen injured player is either a forward or an attacking midfielder?"
   ]
  },
  {
   "cell_type": "code",
   "execution_count": 8,
   "id": "58c22240",
   "metadata": {},
   "outputs": [
    {
     "name": "stdout",
     "output_type": "stream",
     "text": [
      "Probability that a randomly chosen  injured player is either a forward or an attacking midfielder 0.560\n"
     ]
    }
   ],
   "source": [
    "Total_InjuredForward=56\n",
    "Total_InjuredAttMid=24\n",
    "Prob_ForwardgivenInjured = round(Total_InjuredForward/Total_Injured,2)\n",
    "Prob_AttMidgivenInjured = round(Total_InjuredAttMid/Total_Injured,2)\n",
    "Prob_forwardORattMidgivenInjured = (Prob_ForwardgivenInjured+Prob_AttMidgivenInjured)\n",
    "print('Probability that a randomly chosen  injured player is either a forward or an attacking midfielder %3.3f' % Prob_forwardORattMidgivenInjured)"
   ]
  },
  {
   "cell_type": "markdown",
   "id": "234c1b49",
   "metadata": {},
   "source": [
    "Problem 2"
   ]
  },
  {
   "cell_type": "markdown",
   "id": "be21ff06",
   "metadata": {},
   "source": [
    "An independent research organization is trying to estimate the probability that an accident at a nuclear power plant will result in radiation leakage. The types of accidents possible at the plant are fire hazards, mechanical failure, or human error. The research organization also knows that two or more types of accidents cannot occur simultaneously.\n",
    "According to the studies carried out by the organization, the probability of a radiation leak in case of a fire is 20%, the probability of a radiation leak in case of a mechanical 50%, and the probability of a radiation leak in case of a human error is 10%. The studies also showed the following;\n",
    "The probability of a radiation leak occurring simultaneously with a fire is 0.1%.\n",
    "The probability of a radiation leak occurring simultaneously with a mechanical failure is 0.15%.\n",
    "The probability of a radiation leak occurring simultaneously with a human error is 0.12%.\n",
    "On the basis of the information available, answer the questions below:\n",
    "\n",
    "2.1 What are the probabilities of a fire, a mechanical failure, and a human error respectively?"
   ]
  },
  {
   "cell_type": "code",
   "execution_count": 9,
   "id": "be4b38be",
   "metadata": {},
   "outputs": [
    {
     "name": "stdout",
     "output_type": "stream",
     "text": [
      "Probability of Fire is 0.005000\n",
      "Probability of a mechanical failure 0.00300\n",
      "Probability of a human error is 0.01200\n"
     ]
    }
   ],
   "source": [
    "Prob_of_RgivenF=0.2\n",
    "Prob_of_RgivenM=0.5\n",
    "Prob_of_RgivenH=0.1\n",
    "Prob_of_RintF=0.001\n",
    "Prob_of_RintM=0.0015\n",
    "Prob_of_RintH=0.0012\n",
    "\n",
    "Prob_of_Fire=(Prob_of_RintF/Prob_of_RgivenF)\n",
    "Prob_of_mechanicalfailure=(Prob_of_RintM/Prob_of_RgivenM)\n",
    "Prob_of_humanerror=(Prob_of_RintH/Prob_of_RgivenH)\n",
    "\n",
    "print('Probability of Fire is %2f' % Prob_of_Fire)\n",
    "print('Probability of a mechanical failure %1.5f' % Prob_of_mechanicalfailure)\n",
    "print('Probability of a human error is %1.5f' % Prob_of_humanerror)"
   ]
  },
  {
   "cell_type": "markdown",
   "id": "f9f4a76d",
   "metadata": {},
   "source": [
    "2.2 What is the probability of a radiation leak?\n"
   ]
  },
  {
   "cell_type": "code",
   "execution_count": 10,
   "id": "ac4264fa",
   "metadata": {},
   "outputs": [
    {
     "name": "stdout",
     "output_type": "stream",
     "text": [
      "Probability of a radiation leak is 0.00370\n"
     ]
    }
   ],
   "source": [
    "Prob_of_radiation=(Prob_of_RintF + Prob_of_RintM + Prob_of_RintH)\n",
    "print('Probability of a radiation leak is %1.5f' % Prob_of_radiation)"
   ]
  },
  {
   "cell_type": "markdown",
   "id": "426bb454",
   "metadata": {},
   "source": [
    "2.3 Suppose there has been a radiation leak in the reactor for which the definite cause is not known. What is the probability that it has been caused by:\n",
    "A Fire. \n",
    "A Mechanical Failure. \n",
    "A Human Error. \n"
   ]
  },
  {
   "cell_type": "code",
   "execution_count": 11,
   "id": "362ed993",
   "metadata": {},
   "outputs": [
    {
     "name": "stdout",
     "output_type": "stream",
     "text": [
      "Probability of Fire given Radiation Leak 0.270270\n",
      "Probability of a mechanical failure given Radiation Leak 0.40541\n",
      "Probability of a human error given Radiation Leak is 0.32432\n"
     ]
    }
   ],
   "source": [
    "Prob_of_FgivenR=(Prob_of_RintF/Prob_of_radiation)\n",
    "Prob_of_MgivenR=(Prob_of_RintM/Prob_of_radiation)\n",
    "Prob_of_RgivenH=(Prob_of_RintH/Prob_of_radiation)\n",
    "\n",
    "print('Probability of Fire given Radiation Leak %2f' % Prob_of_FgivenR)\n",
    "print('Probability of a mechanical failure given Radiation Leak %1.5f' % Prob_of_MgivenR)\n",
    "print('Probability of a human error given Radiation Leak is %1.5f' % Prob_of_RgivenH)"
   ]
  },
  {
   "cell_type": "markdown",
   "id": "614ad4fa",
   "metadata": {},
   "source": [
    "Problem 3:\n",
    "\n",
    "The breaking strength of gunny bags used for packaging cement is normally distributed with a mean of 5 kg per sq. centimeter and a standard deviation of 1.5 kg per sq. centimeter. The quality team of the cement company wants to know the following about the packaging material to better understand wastage or pilferage within the supply chain; Answer the questions below based on the given information;\n",
    "\n",
    "3.1 What proportion of the gunny bags have a breaking strength less than 3.17 kg per sq cm?"
   ]
  },
  {
   "cell_type": "code",
   "execution_count": 37,
   "id": "18bdebbc",
   "metadata": {},
   "outputs": [
    {
     "name": "stdout",
     "output_type": "stream",
     "text": [
      "Proportion of the gunny bags that have a breaking strength less than 3.17 kg per sq cm is  0.11123243744783456\n"
     ]
    }
   ],
   "source": [
    "prob = stats.norm.cdf(3.17,loc=5,scale=1.5) \n",
    "print(\"Proportion of the gunny bags that have a breaking strength less than 3.17 kg per sq cm is \", prob)"
   ]
  },
  {
   "cell_type": "code",
   "execution_count": 36,
   "id": "77bc446b",
   "metadata": {},
   "outputs": [
    {
     "data": {
      "image/png": "[encoded data removed]",
      "text/plain": [
       "<Figure size 432x288 with 1 Axes>"
      ]
     },
     "metadata": {
      "needs_background": "light"
     },
     "output_type": "display_data"
    }
   ],
   "source": [
    "x = np.linspace(1, 9, 100) \n",
    "plt.plot(x, norm.pdf(x, 5, 1.5)) # plot the pdf of the normal distribution\n",
    "plt.axvline(x = 3.17, c = 'r') # draw a vertical red line through the mentioned point\n",
    "x1 = np.linspace(1, 3.17, 100) \n",
    "plt.fill_between(x1, norm.pdf(x1, 5, 1.5), color='r')\n",
    "plt.show()"
   ]
  },
  {
   "cell_type": "markdown",
   "id": "9c3d64f0",
   "metadata": {},
   "source": [
    "As we can see from the visual representation that the proportion of gunny bags that have less than 3.17 kg per sq cm is approx 0.11."
   ]
  },
  {
   "cell_type": "markdown",
   "id": "56bd3e32",
   "metadata": {},
   "source": [
    "3.2 What proportion of the gunny bags have a breaking strength at least 3.6 kg per sq cm.?"
   ]
  },
  {
   "cell_type": "code",
   "execution_count": 46,
   "id": "bc6c706e",
   "metadata": {},
   "outputs": [
    {
     "name": "stdout",
     "output_type": "stream",
     "text": [
      "Proportion of the gunny bags that have a breaking strength at least 3.6 kg per sq cm. is  0.8246760551477705\n"
     ]
    }
   ],
   "source": [
    "prob1 = 1-stats.norm.cdf(3.6,loc=5,scale=1.5)\n",
    "print(\"Proportion of the gunny bags that have a breaking strength at least 3.6 kg per sq cm. is \", prob1)"
   ]
  },
  {
   "cell_type": "code",
   "execution_count": 45,
   "id": "40f5fbac",
   "metadata": {},
   "outputs": [
    {
     "data": {
      "image/png": "[encoded data removed]",
      "text/plain": [
       "<Figure size 432x288 with 1 Axes>"
      ]
     },
     "metadata": {
      "needs_background": "light"
     },
     "output_type": "display_data"
    }
   ],
   "source": [
    "x = np.linspace(1, 9, 100) \n",
    "plt.plot(x, norm.pdf(x, 5, 1.5)) # plot the pdf of the normal distribution\n",
    "plt.axvline(x = 3.6, c = 'r') # draw a vertical red line through the mentioned point\n",
    "x1 = np.linspace(3.6, 9, 100) \n",
    "plt.fill_between(x1, norm.pdf(x1, 5, 1.5), color='r')\n",
    "plt.show()"
   ]
  },
  {
   "cell_type": "markdown",
   "id": "b4c5ef2c",
   "metadata": {},
   "source": [
    "As we can see from the visual representation that the Proportion of the gunny bags that have a breaking strength at least 3.6 kg per sq cm. is approx 0.82."
   ]
  },
  {
   "cell_type": "markdown",
   "id": "2da54b68",
   "metadata": {},
   "source": [
    "3.3 What proportion of the gunny bags have a breaking strength between 5 and 5.5 kg per sq cm.?"
   ]
  },
  {
   "cell_type": "code",
   "execution_count": 47,
   "id": "7387f334",
   "metadata": {},
   "outputs": [
    {
     "name": "stdout",
     "output_type": "stream",
     "text": [
      "Proportion of the gunny bags that have a breaking strength between 5 and 5.5 kg per sq cm. is  0.13055865981823633\n"
     ]
    }
   ],
   "source": [
    "prob3 = stats.norm.cdf(5.5,loc=5,scale=1.5)-stats.norm.cdf(5,loc=5,scale=1.5)\n",
    "print(\"Proportion of the gunny bags that have a breaking strength between 5 and 5.5 kg per sq cm. is \", prob3)"
   ]
  },
  {
   "cell_type": "code",
   "execution_count": 55,
   "id": "8c993fa2",
   "metadata": {},
   "outputs": [
    {
     "data": {
      "image/png": "[encoded data removed]",
      "text/plain": [
       "<Figure size 432x288 with 1 Axes>"
      ]
     },
     "metadata": {
      "needs_background": "light"
     },
     "output_type": "display_data"
    }
   ],
   "source": [
    "x = np.linspace(1, 9, 100)\n",
    "plt.plot(x, norm.pdf(x, 5, 1.5)) # plot the pdf of the normal distribution\n",
    "plt.axvline(x = 5, c = 'r') # draw a vertical red line through the mentioned point\n",
    "x1 = np.linspace(5, 5.5, 50) \n",
    "plt.fill_between(x1, norm.pdf(x1, 5, 1.5), color='r') \n",
    "plt.axvline(x = 5.5, c = 'r') # draw a vertical red line through the mentioned point\n",
    "x2 = np.linspace(5, 5.5, 50)\n",
    "plt.fill_between(x2, norm.pdf(x2, 5, 1.5), color='r')\n",
    "plt.show()"
   ]
  },
  {
   "cell_type": "markdown",
   "id": "7dd0536d",
   "metadata": {},
   "source": [
    "As we can see from the visual representation that the proportion of the gunny bags have a breaking strength between 5 and 5.5 kg per sq cm. is 0.13."
   ]
  },
  {
   "cell_type": "markdown",
   "id": "4f6a4887",
   "metadata": {},
   "source": [
    "3.4 What proportion of the gunny bags have a breaking strength NOT between 3 and 7.5 kg per sq cm.?"
   ]
  },
  {
   "cell_type": "code",
   "execution_count": 49,
   "id": "2a749639",
   "metadata": {},
   "outputs": [
    {
     "name": "stdout",
     "output_type": "stream",
     "text": [
      "Proportion of the gunny bags that have a breaking strength NOT between 3 and 7.5 kg per sq cm. is   0.13900157199868257\n"
     ]
    }
   ],
   "source": [
    "prob4 = 1 + norm.cdf(3,5,1.5) - norm.cdf(7.5,5,1.5) \n",
    "print(\"Proportion of the gunny bags that have a breaking strength NOT between 3 and 7.5 kg per sq cm. is  \", prob4)"
   ]
  },
  {
   "cell_type": "code",
   "execution_count": 56,
   "id": "69eaeb0e",
   "metadata": {},
   "outputs": [
    {
     "data": {
      "image/png": "[encoded data removed]",
      "text/plain": [
       "<Figure size 432x288 with 1 Axes>"
      ]
     },
     "metadata": {
      "needs_background": "light"
     },
     "output_type": "display_data"
    }
   ],
   "source": [
    "x = np.linspace(1, 9, 100) \n",
    "plt.plot(x, norm.pdf(x, 5, 1.5)) # plot the pdf of the normal distribution\n",
    "plt.axvline(x = 3, c = 'r') # draw a vertical red line through the mentioned point\n",
    "x1 = np.linspace(1, 3, 50) \n",
    "plt.fill_between(x1, norm.pdf(x1, 5, 1.5), color='r') \n",
    "plt.axvline(x = 7.5, c = 'r') # draw a vertical red line through the mentioned point\n",
    "x2 = np.linspace(7.5, 9, 50)\n",
    "plt.fill_between(x2, norm.pdf(x2, 5, 1.5), color='r')\n",
    "plt.show()"
   ]
  },
  {
   "cell_type": "markdown",
   "id": "fb01a7fd",
   "metadata": {},
   "source": [
    "As we can see from the visual representation that the proportion of the gunny bags not having a breaking strength between 3 and 7.5 kg per sq cm. is 0.139."
   ]
  },
  {
   "cell_type": "markdown",
   "id": "9bebe3ce",
   "metadata": {},
   "source": [
    "Problem 4:\n",
    " \n",
    "Grades of the final examination in a training course are found to be normally distributed, with a mean of 77 and a standard deviation of 8.5. Based on the given information answer the questions below.\n",
    " \n",
    "4.1 What is the probability that a randomly chosen student gets a grade below 85 on this exam?"
   ]
  },
  {
   "cell_type": "code",
   "execution_count": 57,
   "id": "da2ab121",
   "metadata": {},
   "outputs": [
    {
     "name": "stdout",
     "output_type": "stream",
     "text": [
      "Probability that a randomly chosen student gets a grade below 85 on this exam is  0.8266927837484748\n"
     ]
    }
   ],
   "source": [
    "prob = stats.norm.cdf(85,loc=77,scale=8.5) \n",
    "print(\"Probability that a randomly chosen student gets a grade below 85 on this exam is \", prob)"
   ]
  },
  {
   "cell_type": "code",
   "execution_count": 59,
   "id": "2cda9beb",
   "metadata": {},
   "outputs": [
    {
     "data": {
      "image/png": "[encoded data removed]",
      "text/plain": [
       "<Figure size 432x288 with 1 Axes>"
      ]
     },
     "metadata": {
      "needs_background": "light"
     },
     "output_type": "display_data"
    }
   ],
   "source": [
    "x = np.linspace(60, 90, 100) \n",
    "plt.plot(x, norm.pdf(x, 77, 8.5)) # plot the pdf of the normal distribution\n",
    "plt.axvline(x = 85, c = 'r') # draw a vertical red line through the mentioned point\n",
    "x1 = np.linspace(60, 85, 100) \n",
    "plt.fill_between(x1, norm.pdf(x1, 77, 8.5), color='r')\n",
    "plt.show()"
   ]
  },
  {
   "cell_type": "markdown",
   "id": "f11a5c7f",
   "metadata": {},
   "source": [
    "4.2 What is the probability that a randomly selected student scores between 65 and 87?\n"
   ]
  },
  {
   "cell_type": "code",
   "execution_count": 60,
   "id": "dbd8efe9",
   "metadata": {},
   "outputs": [
    {
     "name": "stdout",
     "output_type": "stream",
     "text": [
      "Probability that a randomly selected student scores between 65 and 87 is  0.8012869336779058\n"
     ]
    }
   ],
   "source": [
    "prob2 = stats.norm.cdf(87,loc=77,scale=8.5)-stats.norm.cdf(65,loc=77,scale=8.5)\n",
    "print(\"Probability that a randomly selected student scores between 65 and 87 is \", prob2)"
   ]
  },
  {
   "cell_type": "code",
   "execution_count": 61,
   "id": "1c3a17d5",
   "metadata": {},
   "outputs": [
    {
     "data": {
      "image/png": "[encoded data removed]",
      "text/plain": [
       "<Figure size 432x288 with 1 Axes>"
      ]
     },
     "metadata": {
      "needs_background": "light"
     },
     "output_type": "display_data"
    }
   ],
   "source": [
    "x = np.linspace(60, 90, 100)\n",
    "plt.plot(x, norm.pdf(x, 77, 8.5)) # plot the pdf of the normal distribution\n",
    "plt.axvline(x = 65, c = 'r') # draw a vertical red line through the mentioned point\n",
    "x1 = np.linspace(65, 87, 50) \n",
    "plt.fill_between(x1, norm.pdf(x1, 77, 8.5), color='r') \n",
    "plt.axvline(x = 87, c = 'r') # draw a vertical red line through the mentioned point\n",
    "x2 = np.linspace(65, 87, 50)\n",
    "plt.fill_between(x2, norm.pdf(x2, 77, 8.5), color='r')\n",
    "plt.show()"
   ]
  },
  {
   "cell_type": "markdown",
   "id": "90f29f9e",
   "metadata": {},
   "source": [
    "4.3 What should be the passing cut-off so that 75% of the students clear the exam?"
   ]
  },
  {
   "cell_type": "code",
   "execution_count": 66,
   "id": "51b7a0b3",
   "metadata": {},
   "outputs": [
    {
     "name": "stdout",
     "output_type": "stream",
     "text": [
      "The passing cut-off so that 75% of the students clear the exam is  71.2668371233333\n"
     ]
    }
   ],
   "source": [
    "prob3 = stats.norm.ppf(0.25,loc=77,scale=8.5)\n",
    "print(\"The passing cut-off so that 75% of the students clear the exam is \", prob3)"
   ]
  },
  {
   "cell_type": "code",
   "execution_count": 67,
   "id": "fe8486aa",
   "metadata": {},
   "outputs": [
    {
     "data": {
      "image/png": "[encoded data removed]",
      "text/plain": [
       "<Figure size 432x288 with 1 Axes>"
      ]
     },
     "metadata": {
      "needs_background": "light"
     },
     "output_type": "display_data"
    }
   ],
   "source": [
    "x = np.linspace(60, 90, 100) \n",
    "plt.plot(x, norm.pdf(x, 77, 8.5)) # plot the pdf of the normal distribution\n",
    "plt.axvline(x = 71, c = 'r') # draw a vertical red line through the mentioned point\n",
    "x1 = np.linspace(71, 90, 100) \n",
    "plt.fill_between(x1, norm.pdf(x1, 77, 8.5), color='r')\n",
    "plt.show()"
   ]
  },
  {
   "cell_type": "markdown",
   "id": "67046bde",
   "metadata": {},
   "source": [
    "Problem 5:\n",
    " \n",
    "Zingaro stone printing is a company that specializes in printing images or patterns on polished or unpolished stones. However, for the optimum level of printing of the image the stone surface has to have a Brinell's hardness index of at least 150. Recently, Zingaro has received a batch of polished and unpolished stones from its clients. Use the data provided to answer the following (assuming a 5% significance level);\n",
    " \n",
    "5.1 Earlier experience of Zingaro with this particular client is favorable as the stone surface was found to be of adequate hardness. However, Zingaro has reason to believe now that the unpolished stones may not be suitable for printing. Do you think Zingaro is justified in thinking so?\n"
   ]
  },
  {
   "cell_type": "code",
   "execution_count": 114,
   "id": "d092b3bf",
   "metadata": {},
   "outputs": [
    {
     "data": {
      "text/html": [
       "<div>\n",
       "<style scoped>\n",
       "    .dataframe tbody tr th:only-of-type {\n",
       "        vertical-align: middle;\n",
       "    }\n",
       "\n",
       "    .dataframe tbody tr th {\n",
       "        vertical-align: top;\n",
       "    }\n",
       "\n",
       "    .dataframe thead th {\n",
       "        text-align: right;\n",
       "    }\n",
       "</style>\n",
       "<table border=\"1\" class=\"dataframe\">\n",
       "  <thead>\n",
       "    <tr style=\"text-align: right;\">\n",
       "      <th></th>\n",
       "      <th>Unpolished</th>\n",
       "      <th>TreatedandPolished</th>\n",
       "    </tr>\n",
       "  </thead>\n",
       "  <tbody>\n",
       "    <tr>\n",
       "      <th>0</th>\n",
       "      <td>164.481713</td>\n",
       "      <td>133.209393</td>\n",
       "    </tr>\n",
       "    <tr>\n",
       "      <th>1</th>\n",
       "      <td>154.307045</td>\n",
       "      <td>138.482771</td>\n",
       "    </tr>\n",
       "    <tr>\n",
       "      <th>2</th>\n",
       "      <td>129.861048</td>\n",
       "      <td>159.665201</td>\n",
       "    </tr>\n",
       "    <tr>\n",
       "      <th>3</th>\n",
       "      <td>159.096184</td>\n",
       "      <td>145.663528</td>\n",
       "    </tr>\n",
       "    <tr>\n",
       "      <th>4</th>\n",
       "      <td>135.256748</td>\n",
       "      <td>136.789227</td>\n",
       "    </tr>\n",
       "  </tbody>\n",
       "</table>\n",
       "</div>"
      ],
      "text/plain": [
       "   Unpolished   TreatedandPolished\n",
       "0   164.481713          133.209393\n",
       "1   154.307045          138.482771\n",
       "2   129.861048          159.665201\n",
       "3   159.096184          145.663528\n",
       "4   135.256748          136.789227"
      ]
     },
     "execution_count": 114,
     "metadata": {},
     "output_type": "execute_result"
    }
   ],
   "source": [
    "mydata = pd.read_csv('Zingaro_Company.csv')\n",
    "mydata.head()"
   ]
  },
  {
   "cell_type": "code",
   "execution_count": 105,
   "id": "be2f9fb5",
   "metadata": {},
   "outputs": [
    {
     "data": {
      "text/html": [
       "<div>\n",
       "<style scoped>\n",
       "    .dataframe tbody tr th:only-of-type {\n",
       "        vertical-align: middle;\n",
       "    }\n",
       "\n",
       "    .dataframe tbody tr th {\n",
       "        vertical-align: top;\n",
       "    }\n",
       "\n",
       "    .dataframe thead th {\n",
       "        text-align: right;\n",
       "    }\n",
       "</style>\n",
       "<table border=\"1\" class=\"dataframe\">\n",
       "  <thead>\n",
       "    <tr style=\"text-align: right;\">\n",
       "      <th></th>\n",
       "      <th>Unpolished</th>\n",
       "    </tr>\n",
       "  </thead>\n",
       "  <tbody>\n",
       "    <tr>\n",
       "      <th>0</th>\n",
       "      <td>164.481713</td>\n",
       "    </tr>\n",
       "    <tr>\n",
       "      <th>1</th>\n",
       "      <td>154.307045</td>\n",
       "    </tr>\n",
       "    <tr>\n",
       "      <th>2</th>\n",
       "      <td>129.861048</td>\n",
       "    </tr>\n",
       "    <tr>\n",
       "      <th>3</th>\n",
       "      <td>159.096184</td>\n",
       "    </tr>\n",
       "    <tr>\n",
       "      <th>4</th>\n",
       "      <td>135.256748</td>\n",
       "    </tr>\n",
       "  </tbody>\n",
       "</table>\n",
       "</div>"
      ],
      "text/plain": [
       "   Unpolished\n",
       "0  164.481713\n",
       "1  154.307045\n",
       "2  129.861048\n",
       "3  159.096184\n",
       "4  135.256748"
      ]
     },
     "execution_count": 105,
     "metadata": {},
     "output_type": "execute_result"
    }
   ],
   "source": [
    "mydata1 = pd.read_excel('Zingaro_CompanyUnpolished.xlsx')\n",
    "mydata1.head()"
   ]
  },
  {
   "cell_type": "code",
   "execution_count": 106,
   "id": "732621b3",
   "metadata": {},
   "outputs": [
    {
     "data": {
      "text/html": [
       "<div>\n",
       "<style scoped>\n",
       "    .dataframe tbody tr th:only-of-type {\n",
       "        vertical-align: middle;\n",
       "    }\n",
       "\n",
       "    .dataframe tbody tr th {\n",
       "        vertical-align: top;\n",
       "    }\n",
       "\n",
       "    .dataframe thead th {\n",
       "        text-align: right;\n",
       "    }\n",
       "</style>\n",
       "<table border=\"1\" class=\"dataframe\">\n",
       "  <thead>\n",
       "    <tr style=\"text-align: right;\">\n",
       "      <th></th>\n",
       "      <th>Unpolished</th>\n",
       "    </tr>\n",
       "  </thead>\n",
       "  <tbody>\n",
       "    <tr>\n",
       "      <th>count</th>\n",
       "      <td>75.000000</td>\n",
       "    </tr>\n",
       "    <tr>\n",
       "      <th>mean</th>\n",
       "      <td>134.110527</td>\n",
       "    </tr>\n",
       "    <tr>\n",
       "      <th>std</th>\n",
       "      <td>33.041804</td>\n",
       "    </tr>\n",
       "    <tr>\n",
       "      <th>min</th>\n",
       "      <td>48.406838</td>\n",
       "    </tr>\n",
       "    <tr>\n",
       "      <th>25%</th>\n",
       "      <td>115.329753</td>\n",
       "    </tr>\n",
       "    <tr>\n",
       "      <th>50%</th>\n",
       "      <td>135.597121</td>\n",
       "    </tr>\n",
       "    <tr>\n",
       "      <th>75%</th>\n",
       "      <td>158.215098</td>\n",
       "    </tr>\n",
       "    <tr>\n",
       "      <th>max</th>\n",
       "      <td>200.161313</td>\n",
       "    </tr>\n",
       "  </tbody>\n",
       "</table>\n",
       "</div>"
      ],
      "text/plain": [
       "       Unpolished\n",
       "count   75.000000\n",
       "mean   134.110527\n",
       "std     33.041804\n",
       "min     48.406838\n",
       "25%    115.329753\n",
       "50%    135.597121\n",
       "75%    158.215098\n",
       "max    200.161313"
      ]
     },
     "execution_count": 106,
     "metadata": {},
     "output_type": "execute_result"
    }
   ],
   "source": [
    "mydata1.describe()"
   ]
  },
  {
   "cell_type": "markdown",
   "id": "43e9c2f5",
   "metadata": {},
   "source": [
    "Step 1: Define null and alternative hypotheses\n",
    "In testing that unpolished stones may not be suitable for printing.Let μ′ be mean hardness index of unpolished stones\n",
    "\n",
    "Null hypothesis states that mean hardness index of unpolished stones, μ′ is greater than or equals to 150.\n",
    "Alternative hypothesis states that mean hardness index of unpolished stones, μ′ is less than 150.\n",
    "\n",
    "𝐻0: μ′ ≥ 150\n",
    "\n",
    "𝐻𝐴: μ′< 150\n",
    "\n",
    "Step 2: Decide the significance level\n",
    "\n",
    "Here we select 𝛼 = 0.05."
   ]
  },
  {
   "cell_type": "code",
   "execution_count": 75,
   "id": "abafc5d5",
   "metadata": {},
   "outputs": [
    {
     "name": "stdout",
     "output_type": "stream",
     "text": [
      "The sample size for this problem is 75\n"
     ]
    }
   ],
   "source": [
    "print(\"The sample size for this problem is\",len(mydata))"
   ]
  },
  {
   "cell_type": "markdown",
   "id": "6a38a030",
   "metadata": {},
   "source": [
    "We do not know the population standard deviation and n = 75. So we use the t distribution and the $t_{STAT}$ test statistic.\n",
    "\n",
    "In Python, One sample T Test is implemented in ttest_1samp() function in the scipy package. However, it does a Two tailed test by default, and reports a signed T statistic. That means, the reported P-value will always be computed for a Two-tailed test. To calculate the correct P value, you need to divide the output P-value by 2.\n",
    "\n",
    "Apply the following logic if you are performing a one tailed test:\n",
    "\n",
    "For greater than test: Reject H0 if p/2 < alpha (0.05).\n",
    "\n",
    "For lesser than test: Reject H0 if p/2 < alpha (0.05)."
   ]
  },
  {
   "cell_type": "code",
   "execution_count": 107,
   "id": "a14e0abd",
   "metadata": {},
   "outputs": [
    {
     "name": "stdout",
     "output_type": "stream",
     "text": [
      "t Statistic:  [-4.1646296]\n",
      "P Value:  [4.171287e-05]\n"
     ]
    }
   ],
   "source": [
    "x = mydata1\n",
    "tscore, pvalue = ttest_1samp(x, 150)\n",
    "print(\"t Statistic: \", tscore)  \n",
    "print(\"P Value: \", pvalue/2)"
   ]
  },
  {
   "cell_type": "code",
   "execution_count": 109,
   "id": "0f00193b",
   "metadata": {},
   "outputs": [
    {
     "name": "stdout",
     "output_type": "stream",
     "text": [
      "Level of significance: 0.05\n",
      "We have evidence to reject the null hypothesis since p value < Level of significance\n",
      "Our one-sample t-test p-value= [4.171287e-05]\n"
     ]
    }
   ],
   "source": [
    "alpha_value = 0.05 # Level of significance\n",
    "print('Level of significance: %.2f' %alpha_value)\n",
    "if pvalue/2 < alpha_value: \n",
    "    print('We have evidence to reject the null hypothesis since p value < Level of significance')\n",
    "else:\n",
    "    print('We have no evidence to reject the null hypothesis since p value > Level of significance') \n",
    "\n",
    "print (\"Our one-sample t-test p-value=\", pvalue/2)"
   ]
  },
  {
   "cell_type": "markdown",
   "id": "9ea50a92",
   "metadata": {},
   "source": [
    "Hence Zingaro is justified in thinking so Zingaro has reason to believe now that the unpolished stones may not be suitable for printing as mean hardness index of unpolished stones, μ′ is less than 150.\n",
    "So at 95% confidence level, there is sufficient evidence to prove that mean hardness index of unpolished stones is less than 150."
   ]
  },
  {
   "cell_type": "markdown",
   "id": "05b803c0",
   "metadata": {},
   "source": [
    "5.2 Is the mean hardness of the polished and unpolished stones the same?"
   ]
  },
  {
   "cell_type": "code",
   "execution_count": 115,
   "id": "e32ba28f",
   "metadata": {},
   "outputs": [
    {
     "data": {
      "text/html": [
       "<div>\n",
       "<style scoped>\n",
       "    .dataframe tbody tr th:only-of-type {\n",
       "        vertical-align: middle;\n",
       "    }\n",
       "\n",
       "    .dataframe tbody tr th {\n",
       "        vertical-align: top;\n",
       "    }\n",
       "\n",
       "    .dataframe thead th {\n",
       "        text-align: right;\n",
       "    }\n",
       "</style>\n",
       "<table border=\"1\" class=\"dataframe\">\n",
       "  <thead>\n",
       "    <tr style=\"text-align: right;\">\n",
       "      <th></th>\n",
       "      <th>Unpolished</th>\n",
       "      <th>TreatedandPolished</th>\n",
       "    </tr>\n",
       "  </thead>\n",
       "  <tbody>\n",
       "    <tr>\n",
       "      <th>count</th>\n",
       "      <td>75.000000</td>\n",
       "      <td>75.000000</td>\n",
       "    </tr>\n",
       "    <tr>\n",
       "      <th>mean</th>\n",
       "      <td>134.110527</td>\n",
       "      <td>147.788117</td>\n",
       "    </tr>\n",
       "    <tr>\n",
       "      <th>std</th>\n",
       "      <td>33.041804</td>\n",
       "      <td>15.587355</td>\n",
       "    </tr>\n",
       "    <tr>\n",
       "      <th>min</th>\n",
       "      <td>48.406838</td>\n",
       "      <td>107.524167</td>\n",
       "    </tr>\n",
       "    <tr>\n",
       "      <th>25%</th>\n",
       "      <td>115.329753</td>\n",
       "      <td>138.268300</td>\n",
       "    </tr>\n",
       "    <tr>\n",
       "      <th>50%</th>\n",
       "      <td>135.597121</td>\n",
       "      <td>145.721322</td>\n",
       "    </tr>\n",
       "    <tr>\n",
       "      <th>75%</th>\n",
       "      <td>158.215098</td>\n",
       "      <td>157.373318</td>\n",
       "    </tr>\n",
       "    <tr>\n",
       "      <th>max</th>\n",
       "      <td>200.161313</td>\n",
       "      <td>192.272856</td>\n",
       "    </tr>\n",
       "  </tbody>\n",
       "</table>\n",
       "</div>"
      ],
      "text/plain": [
       "       Unpolished   TreatedandPolished\n",
       "count    75.000000           75.000000\n",
       "mean    134.110527          147.788117\n",
       "std      33.041804           15.587355\n",
       "min      48.406838          107.524167\n",
       "25%     115.329753          138.268300\n",
       "50%     135.597121          145.721322\n",
       "75%     158.215098          157.373318\n",
       "max     200.161313          192.272856"
      ]
     },
     "execution_count": 115,
     "metadata": {},
     "output_type": "execute_result"
    }
   ],
   "source": [
    "mydata.describe()"
   ]
  },
  {
   "cell_type": "code",
   "execution_count": 122,
   "id": "eb0816f5",
   "metadata": {},
   "outputs": [
    {
     "data": {
      "text/html": [
       "<div>\n",
       "<style scoped>\n",
       "    .dataframe tbody tr th:only-of-type {\n",
       "        vertical-align: middle;\n",
       "    }\n",
       "\n",
       "    .dataframe tbody tr th {\n",
       "        vertical-align: top;\n",
       "    }\n",
       "\n",
       "    .dataframe thead th {\n",
       "        text-align: right;\n",
       "    }\n",
       "</style>\n",
       "<table border=\"1\" class=\"dataframe\">\n",
       "  <thead>\n",
       "    <tr style=\"text-align: right;\">\n",
       "      <th></th>\n",
       "      <th>TreatedandPolished</th>\n",
       "    </tr>\n",
       "  </thead>\n",
       "  <tbody>\n",
       "    <tr>\n",
       "      <th>0</th>\n",
       "      <td>133.209393</td>\n",
       "    </tr>\n",
       "    <tr>\n",
       "      <th>1</th>\n",
       "      <td>138.482771</td>\n",
       "    </tr>\n",
       "    <tr>\n",
       "      <th>2</th>\n",
       "      <td>159.665201</td>\n",
       "    </tr>\n",
       "    <tr>\n",
       "      <th>3</th>\n",
       "      <td>145.663528</td>\n",
       "    </tr>\n",
       "    <tr>\n",
       "      <th>4</th>\n",
       "      <td>136.789227</td>\n",
       "    </tr>\n",
       "  </tbody>\n",
       "</table>\n",
       "</div>"
      ],
      "text/plain": [
       "   TreatedandPolished\n",
       "0          133.209393\n",
       "1          138.482771\n",
       "2          159.665201\n",
       "3          145.663528\n",
       "4          136.789227"
      ]
     },
     "execution_count": 122,
     "metadata": {},
     "output_type": "execute_result"
    }
   ],
   "source": [
    "mydata2 = pd.read_excel('Zingaro_CompanyTreatedandPolished.xlsx')\n",
    "mydata2.head()"
   ]
  },
  {
   "cell_type": "markdown",
   "id": "d9beacaf",
   "metadata": {},
   "source": [
    "Step 1: Define null and alternative hypotheses\n",
    "\n",
    "In testing whether the mean hardness index of unpolished stones is same as mean hardness index of unpolished stones, the null hypothesis states that the mean hardness index of unpolished stones is same as mean hardness index of unpolished stones, 𝜇𝐴 equals 𝜇𝐵. The alternative hypothesis states that the mean hardness index of unpolished stones is different from mean hardness index of unpolished stones, 𝜇𝐴 is not equal to 𝜇𝐵.\n",
    "\n",
    "𝐻0: 𝜇𝐴 - 𝜇𝐵 = 0 i.e 𝜇𝐴 = 𝜇𝐵\n",
    "\n",
    "𝐻𝐴: 𝜇𝐴 - 𝜇𝐵 ≠ 0 i.e 𝜇𝐴 ≠ 𝜇𝐵\n",
    "\n",
    "Step 2: Decide the significance level\n",
    "Here we select 𝛼 = 0.05 and the population standard deviation is not known.\n",
    "\n",
    "Step 3: Identify the test statistic\n",
    "We have two samples and we do not know the population standard deviation.\n",
    "Sample sizes for both samples are same.\n",
    "We use the t distribution and the 𝑡𝑆𝑇𝐴𝑇 test statistic for two sample unpaired test.\n",
    "\n",
    "Step 4: Calculate the p - value and test statistic\n",
    "** We use the scipy.stats.ttest_ind to calculate the t-test for the means of TWO INDEPENDENT samples of scores given the two sample observations. This function returns t statistic and two-tailed p value.**\n",
    "\n",
    "** This is a two-sided test for the null hypothesis that 2 independent samples have identical average (expected) values."
   ]
  },
  {
   "cell_type": "code",
   "execution_count": 123,
   "id": "780c9673",
   "metadata": {},
   "outputs": [
    {
     "data": {
      "text/plain": [
       "Ttest_indResult(statistic=array([-3.24223205]), pvalue=array([0.00158838]))"
      ]
     },
     "execution_count": 123,
     "metadata": {},
     "output_type": "execute_result"
    }
   ],
   "source": [
    "stats.ttest_ind(a=mydata1, b=mydata2, equal_var=False)"
   ]
  },
  {
   "cell_type": "code",
   "execution_count": 128,
   "id": "c16a10f2",
   "metadata": {},
   "outputs": [
    {
     "name": "stdout",
     "output_type": "stream",
     "text": [
      "two-sample t-test p-value= 0.00158838\n",
      "We have enough evidence to reject the null hypothesis in favour of alternative hypothesis\n",
      "We conclude that mean hardness index of unpolished stones is different from mean hardness index of unpolished stones.\n"
     ]
    }
   ],
   "source": [
    "\n",
    "print (\"two-sample t-test p-value=\", 0.00158838)\n",
    "\n",
    "alpha_level = 0.05\n",
    "\n",
    "if 0.00158838 < alpha_level:\n",
    "    print('We have enough evidence to reject the null hypothesis in favour of alternative hypothesis')\n",
    "    print('We conclude that mean hardness index of unpolished stones is different from mean hardness index of unpolished stones.')\n",
    "else:\n",
    "    print('We do not have enough evidence to reject the null hypothesis in favour of alternative hypothesis')\n",
    "    print('the mean hardness index of unpolished stones is same as mean hardness index of unpolished stones.')"
   ]
  },
  {
   "cell_type": "markdown",
   "id": "9442e5e5",
   "metadata": {},
   "source": [
    "Problem 6:\n",
    " \n",
    "Aquarius health club, one of the largest and most popular cross-fit gyms in the country has been advertising a rigorous program for body conditioning. The program is considered successful if the candidate is able to do more than 5 push-ups, as compared to when he/she enrolled in the program. Using the sample data provided can you conclude whether the program is successful? \n"
   ]
  },
  {
   "cell_type": "code",
   "execution_count": 133,
   "id": "5af61a42",
   "metadata": {},
   "outputs": [
    {
     "data": {
      "text/html": [
       "<div>\n",
       "<style scoped>\n",
       "    .dataframe tbody tr th:only-of-type {\n",
       "        vertical-align: middle;\n",
       "    }\n",
       "\n",
       "    .dataframe tbody tr th {\n",
       "        vertical-align: top;\n",
       "    }\n",
       "\n",
       "    .dataframe thead th {\n",
       "        text-align: right;\n",
       "    }\n",
       "</style>\n",
       "<table border=\"1\" class=\"dataframe\">\n",
       "  <thead>\n",
       "    <tr style=\"text-align: right;\">\n",
       "      <th></th>\n",
       "      <th>Sr no.</th>\n",
       "      <th>Before</th>\n",
       "      <th>After</th>\n",
       "    </tr>\n",
       "  </thead>\n",
       "  <tbody>\n",
       "    <tr>\n",
       "      <th>0</th>\n",
       "      <td>1</td>\n",
       "      <td>39</td>\n",
       "      <td>44</td>\n",
       "    </tr>\n",
       "    <tr>\n",
       "      <th>1</th>\n",
       "      <td>2</td>\n",
       "      <td>25</td>\n",
       "      <td>25</td>\n",
       "    </tr>\n",
       "    <tr>\n",
       "      <th>2</th>\n",
       "      <td>3</td>\n",
       "      <td>39</td>\n",
       "      <td>39</td>\n",
       "    </tr>\n",
       "    <tr>\n",
       "      <th>3</th>\n",
       "      <td>4</td>\n",
       "      <td>6</td>\n",
       "      <td>13</td>\n",
       "    </tr>\n",
       "    <tr>\n",
       "      <th>4</th>\n",
       "      <td>5</td>\n",
       "      <td>40</td>\n",
       "      <td>44</td>\n",
       "    </tr>\n",
       "  </tbody>\n",
       "</table>\n",
       "</div>"
      ],
      "text/plain": [
       "   Sr no.  Before  After\n",
       "0       1      39     44\n",
       "1       2      25     25\n",
       "2       3      39     39\n",
       "3       4       6     13\n",
       "4       5      40     44"
      ]
     },
     "execution_count": 133,
     "metadata": {},
     "output_type": "execute_result"
    }
   ],
   "source": [
    "mydata3 = pd.read_csv('Aquarius_gym.csv')\n",
    "mydata3.head()"
   ]
  },
  {
   "cell_type": "code",
   "execution_count": 134,
   "id": "ba46019c",
   "metadata": {},
   "outputs": [
    {
     "data": {
      "text/html": [
       "<div>\n",
       "<style scoped>\n",
       "    .dataframe tbody tr th:only-of-type {\n",
       "        vertical-align: middle;\n",
       "    }\n",
       "\n",
       "    .dataframe tbody tr th {\n",
       "        vertical-align: top;\n",
       "    }\n",
       "\n",
       "    .dataframe thead th {\n",
       "        text-align: right;\n",
       "    }\n",
       "</style>\n",
       "<table border=\"1\" class=\"dataframe\">\n",
       "  <thead>\n",
       "    <tr style=\"text-align: right;\">\n",
       "      <th></th>\n",
       "      <th>Sr no.</th>\n",
       "      <th>Before</th>\n",
       "      <th>After</th>\n",
       "    </tr>\n",
       "  </thead>\n",
       "  <tbody>\n",
       "    <tr>\n",
       "      <th>count</th>\n",
       "      <td>100.000000</td>\n",
       "      <td>100.000000</td>\n",
       "      <td>100.000000</td>\n",
       "    </tr>\n",
       "    <tr>\n",
       "      <th>mean</th>\n",
       "      <td>50.500000</td>\n",
       "      <td>26.940000</td>\n",
       "      <td>32.490000</td>\n",
       "    </tr>\n",
       "    <tr>\n",
       "      <th>std</th>\n",
       "      <td>29.011492</td>\n",
       "      <td>8.806357</td>\n",
       "      <td>8.779562</td>\n",
       "    </tr>\n",
       "    <tr>\n",
       "      <th>min</th>\n",
       "      <td>1.000000</td>\n",
       "      <td>3.000000</td>\n",
       "      <td>10.000000</td>\n",
       "    </tr>\n",
       "    <tr>\n",
       "      <th>25%</th>\n",
       "      <td>25.750000</td>\n",
       "      <td>21.750000</td>\n",
       "      <td>26.000000</td>\n",
       "    </tr>\n",
       "    <tr>\n",
       "      <th>50%</th>\n",
       "      <td>50.500000</td>\n",
       "      <td>28.000000</td>\n",
       "      <td>34.000000</td>\n",
       "    </tr>\n",
       "    <tr>\n",
       "      <th>75%</th>\n",
       "      <td>75.250000</td>\n",
       "      <td>32.250000</td>\n",
       "      <td>39.000000</td>\n",
       "    </tr>\n",
       "    <tr>\n",
       "      <th>max</th>\n",
       "      <td>100.000000</td>\n",
       "      <td>47.000000</td>\n",
       "      <td>51.000000</td>\n",
       "    </tr>\n",
       "  </tbody>\n",
       "</table>\n",
       "</div>"
      ],
      "text/plain": [
       "           Sr no.      Before       After\n",
       "count  100.000000  100.000000  100.000000\n",
       "mean    50.500000   26.940000   32.490000\n",
       "std     29.011492    8.806357    8.779562\n",
       "min      1.000000    3.000000   10.000000\n",
       "25%     25.750000   21.750000   26.000000\n",
       "50%     50.500000   28.000000   34.000000\n",
       "75%     75.250000   32.250000   39.000000\n",
       "max    100.000000   47.000000   51.000000"
      ]
     },
     "execution_count": 134,
     "metadata": {},
     "output_type": "execute_result"
    }
   ],
   "source": [
    "mydata3.describe()"
   ]
  },
  {
   "cell_type": "markdown",
   "id": "9104e557",
   "metadata": {},
   "source": [
    "Step 1: Define null and alternative hypotheses\n",
    "In testing if the candidate is able to do more than 5 push-ups after enroling in the program\n",
    "\n",
    "the null hypothesis states that the the mean difference is 5\n",
    "  \n",
    "\n",
    "The alternative hypothesis is that the mean difference is less than 5\n",
    "\n",
    "𝐻0: 𝜇a - 𝜇b ≥ 5\n",
    "\n",
    "𝐻𝐴: 𝜇a - 𝜇b < 5\n",
    "\n",
    "Step 2: Decide the significance level\n",
    "Here we select 𝛼 = 0.05 as given in the question.\n",
    "\n",
    "Step 3: Identify the test statistic\n",
    "Sample sizes for both samples are same.\n",
    "We have two paired samples and we do not know the population standard deviation.\n",
    "So you use the t distribution and the 𝑡𝑆𝑇𝐴𝑇 test statistic for two sample paired test.\n",
    "\n",
    "Step 4: Calculate the p - value and test statistic\n",
    "We use the scipy.stats.ttest_rel to calculate the T-test on TWO RELATED samples of scores. This is a two-sided test for the null hypothesis that 2 related or repeated samples have identical average (expected) values. Here we give the two sample observations as input. This function returns t statistic and two-tailed p value."
   ]
  },
  {
   "cell_type": "code",
   "execution_count": 136,
   "id": "c596043e",
   "metadata": {},
   "outputs": [
    {
     "name": "stdout",
     "output_type": "stream",
     "text": [
      "tstat  -36.730\n",
      "p-value for one-tail: 4.36643115031875e-60\n"
     ]
    }
   ],
   "source": [
    "x=mydata3[\"Before\"]\n",
    "y=mydata3[\"After\"]+5\n",
    "#Running paired t-test\n",
    "stats.ttest_rel(x, y, alternative=\"less\")\n",
    "print('tstat  %1.3f' % -36.73038540665224)    \n",
    "print(\"p-value for one-tail:\", 8.7328623006375e-60/2)"
   ]
  },
  {
   "cell_type": "code",
   "execution_count": 137,
   "id": "d2cf8151",
   "metadata": {},
   "outputs": [
    {
     "name": "stdout",
     "output_type": "stream",
     "text": [
      "We have enough evidence to reject the null hypothesis in favour of alternative hypothesis\n"
     ]
    }
   ],
   "source": [
    "alpha_level = 0.05\n",
    "\n",
    "if 4.36643115031875e-60 < alpha_level:\n",
    "    print('We have enough evidence to reject the null hypothesis in favour of alternative hypothesis')\n",
    "    \n",
    "else:\n",
    "    print('We do not have enough evidence to reject the null hypothesis in favour of alternative hypothesis')"
   ]
  },
  {
   "cell_type": "markdown",
   "id": "557be2b0",
   "metadata": {},
   "source": [
    "Hence we can conclude that the program is unsuccesful as the mean difference is less than 5"
   ]
  },
  {
   "cell_type": "markdown",
   "id": "aa3bfd51",
   "metadata": {},
   "source": [
    "Problem 7:\n",
    " \n",
    "Dental implant data: The hardness of metal implant in dental cavities depends on multiple factors, such as the method of implant, the temperature at which the metal is treated, the alloy used as well as on the dentists who may favour one method above another and may work better in his/her favourite method. The response is the variable of interest.\n",
    "\n",
    "1. Test whether there is any difference among the dentists on the implant hardness. State the null and alternative hypotheses. Note that both types of alloys cannot be considered together. You must state the null and alternative hypotheses separately for the two types of alloys.?\n"
   ]
  },
  {
   "cell_type": "markdown",
   "id": "4073d5e6",
   "metadata": {},
   "source": [
    "For alloy of type 1\n",
    "\n",
    "H0 : The mean implant hardness is same among dentist \n",
    "\n",
    "H1 : The mean implant hardness is different among dentist"
   ]
  },
  {
   "cell_type": "code",
   "execution_count": 143,
   "id": "6e591041",
   "metadata": {},
   "outputs": [
    {
     "data": {
      "text/html": [
       "<div>\n",
       "<style scoped>\n",
       "    .dataframe tbody tr th:only-of-type {\n",
       "        vertical-align: middle;\n",
       "    }\n",
       "\n",
       "    .dataframe tbody tr th {\n",
       "        vertical-align: top;\n",
       "    }\n",
       "\n",
       "    .dataframe thead th {\n",
       "        text-align: right;\n",
       "    }\n",
       "</style>\n",
       "<table border=\"1\" class=\"dataframe\">\n",
       "  <thead>\n",
       "    <tr style=\"text-align: right;\">\n",
       "      <th></th>\n",
       "      <th>Dentist</th>\n",
       "      <th>Method</th>\n",
       "      <th>Alloy</th>\n",
       "      <th>Temp</th>\n",
       "      <th>Response</th>\n",
       "    </tr>\n",
       "  </thead>\n",
       "  <tbody>\n",
       "    <tr>\n",
       "      <th>0</th>\n",
       "      <td>1</td>\n",
       "      <td>1</td>\n",
       "      <td>1</td>\n",
       "      <td>1500</td>\n",
       "      <td>813</td>\n",
       "    </tr>\n",
       "    <tr>\n",
       "      <th>1</th>\n",
       "      <td>1</td>\n",
       "      <td>1</td>\n",
       "      <td>1</td>\n",
       "      <td>1600</td>\n",
       "      <td>792</td>\n",
       "    </tr>\n",
       "    <tr>\n",
       "      <th>2</th>\n",
       "      <td>1</td>\n",
       "      <td>1</td>\n",
       "      <td>1</td>\n",
       "      <td>1700</td>\n",
       "      <td>792</td>\n",
       "    </tr>\n",
       "    <tr>\n",
       "      <th>3</th>\n",
       "      <td>1</td>\n",
       "      <td>1</td>\n",
       "      <td>2</td>\n",
       "      <td>1500</td>\n",
       "      <td>907</td>\n",
       "    </tr>\n",
       "    <tr>\n",
       "      <th>4</th>\n",
       "      <td>1</td>\n",
       "      <td>1</td>\n",
       "      <td>2</td>\n",
       "      <td>1600</td>\n",
       "      <td>792</td>\n",
       "    </tr>\n",
       "  </tbody>\n",
       "</table>\n",
       "</div>"
      ],
      "text/plain": [
       "   Dentist  Method  Alloy  Temp  Response\n",
       "0        1       1      1  1500       813\n",
       "1        1       1      1  1600       792\n",
       "2        1       1      1  1700       792\n",
       "3        1       1      2  1500       907\n",
       "4        1       1      2  1600       792"
      ]
     },
     "execution_count": 143,
     "metadata": {},
     "output_type": "execute_result"
    }
   ],
   "source": [
    "df = pd.read_excel('DentalHardness.xlsx')\n",
    "df.head()"
   ]
  },
  {
   "cell_type": "code",
   "execution_count": 144,
   "id": "57f8797d",
   "metadata": {},
   "outputs": [
    {
     "name": "stdout",
     "output_type": "stream",
     "text": [
      "<class 'pandas.core.frame.DataFrame'>\n",
      "RangeIndex: 90 entries, 0 to 89\n",
      "Data columns (total 5 columns):\n",
      " #   Column    Non-Null Count  Dtype\n",
      "---  ------    --------------  -----\n",
      " 0   Dentist   90 non-null     int64\n",
      " 1   Method    90 non-null     int64\n",
      " 2   Alloy     90 non-null     int64\n",
      " 3   Temp      90 non-null     int64\n",
      " 4   Response  90 non-null     int64\n",
      "dtypes: int64(5)\n",
      "memory usage: 3.6 KB\n"
     ]
    }
   ],
   "source": [
    "df.info()"
   ]
  },
  {
   "cell_type": "code",
   "execution_count": 153,
   "id": "f06cea51",
   "metadata": {},
   "outputs": [],
   "source": [
    "df['Dentist']= pd.Categorical(df['Dentist'])\n",
    "df['Method']= pd.Categorical(df['Method'])\n",
    "df['Alloy']= pd.Categorical(df['Alloy'])\n",
    "df['Temp']= pd.Categorical(df['Temp'])"
   ]
  },
  {
   "cell_type": "code",
   "execution_count": 154,
   "id": "9f0b8df2",
   "metadata": {},
   "outputs": [
    {
     "name": "stdout",
     "output_type": "stream",
     "text": [
      "<class 'pandas.core.frame.DataFrame'>\n",
      "RangeIndex: 90 entries, 0 to 89\n",
      "Data columns (total 5 columns):\n",
      " #   Column    Non-Null Count  Dtype   \n",
      "---  ------    --------------  -----   \n",
      " 0   Dentist   90 non-null     category\n",
      " 1   Method    90 non-null     category\n",
      " 2   Alloy     90 non-null     category\n",
      " 3   Temp      90 non-null     category\n",
      " 4   Response  90 non-null     int64   \n",
      "dtypes: category(4), int64(1)\n",
      "memory usage: 1.8 KB\n"
     ]
    }
   ],
   "source": [
    "df.info()"
   ]
  },
  {
   "cell_type": "code",
   "execution_count": 147,
   "id": "4b8cead6",
   "metadata": {},
   "outputs": [
    {
     "data": {
      "text/plain": [
       "<bound method IndexOpsMixin.value_counts of 0     1\n",
       "1     1\n",
       "2     1\n",
       "3     2\n",
       "4     2\n",
       "     ..\n",
       "85    1\n",
       "86    1\n",
       "87    2\n",
       "88    2\n",
       "89    2\n",
       "Name: Alloy, Length: 90, dtype: category\n",
       "Categories (2, int64): [1, 2]>"
      ]
     },
     "execution_count": 147,
     "metadata": {},
     "output_type": "execute_result"
    }
   ],
   "source": [
    "df.Alloy.value_counts"
   ]
  },
  {
   "cell_type": "code",
   "execution_count": 148,
   "id": "6a6d8deb",
   "metadata": {},
   "outputs": [
    {
     "data": {
      "text/plain": [
       "<bound method IndexOpsMixin.value_counts of 0     1\n",
       "1     1\n",
       "2     1\n",
       "3     1\n",
       "4     1\n",
       "     ..\n",
       "85    5\n",
       "86    5\n",
       "87    5\n",
       "88    5\n",
       "89    5\n",
       "Name: Dentist, Length: 90, dtype: category\n",
       "Categories (5, int64): [1, 2, 3, 4, 5]>"
      ]
     },
     "execution_count": 148,
     "metadata": {},
     "output_type": "execute_result"
    }
   ],
   "source": [
    "df.Dentist.value_counts"
   ]
  },
  {
   "cell_type": "code",
   "execution_count": 150,
   "id": "609366fb",
   "metadata": {},
   "outputs": [
    {
     "data": {
      "text/plain": [
       "<bound method IndexOpsMixin.value_counts of 0     1\n",
       "1     1\n",
       "2     1\n",
       "3     1\n",
       "4     1\n",
       "     ..\n",
       "85    3\n",
       "86    3\n",
       "87    3\n",
       "88    3\n",
       "89    3\n",
       "Name: Method, Length: 90, dtype: category\n",
       "Categories (3, int64): [1, 2, 3]>"
      ]
     },
     "execution_count": 150,
     "metadata": {},
     "output_type": "execute_result"
    }
   ],
   "source": [
    "df.Method.value_counts"
   ]
  },
  {
   "cell_type": "code",
   "execution_count": 158,
   "id": "36c941c4",
   "metadata": {},
   "outputs": [],
   "source": [
    "split_values = df['Alloy'].unique()\n",
    "# print(split_values)\n",
    "\n",
    "for value in split_values:\n",
    "    df1 = df[df['Alloy'] == value]\n",
    "    output_file_name = \"Dental_\" + str(value) + \"Hardness_.xlsx\"\n",
    "    df1.to_excel(output_file_name, index=False)"
   ]
  },
  {
   "cell_type": "code",
   "execution_count": 159,
   "id": "1894cb1f",
   "metadata": {},
   "outputs": [],
   "source": [
    "df2 = pd.read_excel('Dental_1Hardness_.xlsx')\n",
    "df3 = pd.read_excel('Dental_2Hardness_.xlsx')"
   ]
  },
  {
   "cell_type": "code",
   "execution_count": 164,
   "id": "38d74cbe",
   "metadata": {},
   "outputs": [
    {
     "name": "stdout",
     "output_type": "stream",
     "text": [
      "<class 'pandas.core.frame.DataFrame'>\n",
      "RangeIndex: 45 entries, 0 to 44\n",
      "Data columns (total 5 columns):\n",
      " #   Column    Non-Null Count  Dtype\n",
      "---  ------    --------------  -----\n",
      " 0   Dentist   45 non-null     int64\n",
      " 1   Method    45 non-null     int64\n",
      " 2   Alloy     45 non-null     int64\n",
      " 3   Temp      45 non-null     int64\n",
      " 4   Response  45 non-null     int64\n",
      "dtypes: int64(5)\n",
      "memory usage: 1.9 KB\n"
     ]
    }
   ],
   "source": [
    "df3.info()"
   ]
  },
  {
   "cell_type": "code",
   "execution_count": 176,
   "id": "3767a30d",
   "metadata": {},
   "outputs": [],
   "source": [
    "df2['Dentist']= pd.Categorical(df2['Dentist'])\n",
    "df2['Method']= pd.Categorical(df2['Method'])\n",
    "df2['Alloy']= pd.Categorical(df2['Alloy'])\n",
    "df2['Temp']= pd.Categorical(df2['Temp'])\n",
    "df3['Dentist']= pd.Categorical(df3['Dentist'])\n",
    "df3['Method']= pd.Categorical(df3['Method'])\n",
    "df3['Alloy']= pd.Categorical(df3['Alloy'])\n",
    "df3['Temp']= pd.Categorical(df3['Temp'])"
   ]
  },
  {
   "cell_type": "code",
   "execution_count": 178,
   "id": "65a55d7f",
   "metadata": {},
   "outputs": [
    {
     "name": "stdout",
     "output_type": "stream",
     "text": [
      "<class 'pandas.core.frame.DataFrame'>\n",
      "RangeIndex: 45 entries, 0 to 44\n",
      "Data columns (total 5 columns):\n",
      " #   Column    Non-Null Count  Dtype   \n",
      "---  ------    --------------  -----   \n",
      " 0   Dentist   45 non-null     category\n",
      " 1   Method    45 non-null     category\n",
      " 2   Alloy     45 non-null     category\n",
      " 3   Temp      45 non-null     category\n",
      " 4   Response  45 non-null     int64   \n",
      "dtypes: category(4), int64(1)\n",
      "memory usage: 1.2 KB\n"
     ]
    }
   ],
   "source": [
    "df2.info()"
   ]
  },
  {
   "cell_type": "markdown",
   "id": "4ddc0a6c",
   "metadata": {},
   "source": [
    "FOR ALLOY TYPE 1"
   ]
  },
  {
   "cell_type": "code",
   "execution_count": 170,
   "id": "2c600b3c",
   "metadata": {},
   "outputs": [
    {
     "name": "stdout",
     "output_type": "stream",
     "text": [
      "              df         sum_sq       mean_sq         F    PR(>F)\n",
      "C(Dentist)   4.0  106683.688889  26670.922222  1.977112  0.116567\n",
      "Residual    40.0  539593.555556  13489.838889       NaN       NaN\n"
     ]
    }
   ],
   "source": [
    "formula = 'Response ~ C(Dentist)'\n",
    "model = ols(formula, df2).fit()\n",
    "aov_table = anova_lm(model)\n",
    "print(aov_table)"
   ]
  },
  {
   "cell_type": "markdown",
   "id": "8e6128c9",
   "metadata": {},
   "source": [
    "FOR ALLOY TYPE 2"
   ]
  },
  {
   "cell_type": "code",
   "execution_count": 171,
   "id": "02513ef3",
   "metadata": {},
   "outputs": [
    {
     "name": "stdout",
     "output_type": "stream",
     "text": [
      "              df        sum_sq       mean_sq         F    PR(>F)\n",
      "C(Dentist)   4.0  5.679791e+04  14199.477778  0.524835  0.718031\n",
      "Residual    40.0  1.082205e+06  27055.122222       NaN       NaN\n"
     ]
    }
   ],
   "source": [
    "formula = 'Response ~ C(Dentist)'\n",
    "model = ols(formula, df3).fit()\n",
    "aov_table = anova_lm(model)\n",
    "print(aov_table)"
   ]
  },
  {
   "cell_type": "markdown",
   "id": "39e0dac1",
   "metadata": {},
   "source": [
    "3. Irrespective of your conclusion in 2, we will continue with the testing procedure. What do you conclude regarding whether implant hardness depends on dentists? Clearly state your conclusion. If the null hypothesis is rejected, is it possible to identify which pairs of dentists differ?\n"
   ]
  },
  {
   "cell_type": "markdown",
   "id": "7302a5c5",
   "metadata": {},
   "source": [
    "For alloy type 1 : As P value is greater than 0.05 thus we will accept the null hypothesis.\n",
    "For alloy type 2 : As P value is greater than 0.05 thus we will accept the null hypothesis."
   ]
  },
  {
   "cell_type": "markdown",
   "id": "177fbdb8",
   "metadata": {},
   "source": [
    "4. Now test whether there is any difference among the methods on the hardness of dental implant, separately for the two types of alloys. What are your conclusions? If the null hypothesis is rejected, is it possible to identify which pairs of methods differ?\n"
   ]
  },
  {
   "cell_type": "markdown",
   "id": "53db2b7f",
   "metadata": {},
   "source": [
    "FOR ALLOY TYPE 1"
   ]
  },
  {
   "cell_type": "code",
   "execution_count": 172,
   "id": "ef017db9",
   "metadata": {},
   "outputs": [
    {
     "name": "stdout",
     "output_type": "stream",
     "text": [
      "             df         sum_sq       mean_sq         F    PR(>F)\n",
      "C(Method)   2.0  148472.177778  74236.088889  6.263327  0.004163\n",
      "Residual   42.0  497805.066667  11852.501587       NaN       NaN\n"
     ]
    }
   ],
   "source": [
    "formula = 'Response ~ C(Method)'\n",
    "model = ols(formula, df2).fit()\n",
    "aov_table = anova_lm(model)\n",
    "print(aov_table)"
   ]
  },
  {
   "cell_type": "markdown",
   "id": "147b4936",
   "metadata": {},
   "source": [
    "FOR ALLOY TYPE 2"
   ]
  },
  {
   "cell_type": "code",
   "execution_count": 173,
   "id": "5a7e8889",
   "metadata": {},
   "outputs": [
    {
     "name": "stdout",
     "output_type": "stream",
     "text": [
      "             df    sum_sq        mean_sq        F    PR(>F)\n",
      "C(Method)   2.0  499640.4  249820.200000  16.4108  0.000005\n",
      "Residual   42.0  639362.4   15222.914286      NaN       NaN\n"
     ]
    }
   ],
   "source": [
    "formula = 'Response ~ C(Method)'\n",
    "model = ols(formula, df3).fit()\n",
    "aov_table = anova_lm(model)\n",
    "print(aov_table)"
   ]
  },
  {
   "cell_type": "markdown",
   "id": "602b6b24",
   "metadata": {},
   "source": [
    "As P value is less than 0.05 for both types of alloys 1 & 2 thus we reject the null hypothesis as there is enough evidence to say that there is mean difference among the methods on hardness of dental implant"
   ]
  },
  {
   "cell_type": "markdown",
   "id": "5d0f7de2",
   "metadata": {},
   "source": [
    "5. Now test whether there is any difference among the temperature levels on the hardness of dental implant, separately for the two types of alloys. What are your conclusions? If the null hypothesis is rejected, is it possible to identify which levels of temperatures differ?"
   ]
  },
  {
   "cell_type": "markdown",
   "id": "99e00224",
   "metadata": {},
   "source": [
    "FOR ALLOY TYPE 1"
   ]
  },
  {
   "cell_type": "code",
   "execution_count": 179,
   "id": "08229ca4",
   "metadata": {},
   "outputs": [
    {
     "name": "stdout",
     "output_type": "stream",
     "text": [
      "            df         sum_sq       mean_sq         F    PR(>F)\n",
      "C(Temp)    2.0   10154.444444   5077.222222  0.335224  0.717074\n",
      "Residual  42.0  636122.800000  15145.780952       NaN       NaN\n"
     ]
    }
   ],
   "source": [
    "formula = 'Response ~ C(Temp)'\n",
    "model = ols(formula, df2).fit()\n",
    "aov_table = anova_lm(model)\n",
    "print(aov_table)"
   ]
  },
  {
   "cell_type": "markdown",
   "id": "997d9786",
   "metadata": {},
   "source": [
    "FOR ALLOY TYPE 2"
   ]
  },
  {
   "cell_type": "code",
   "execution_count": 180,
   "id": "cd42c0ac",
   "metadata": {},
   "outputs": [
    {
     "name": "stdout",
     "output_type": "stream",
     "text": [
      "            df        sum_sq       mean_sq         F    PR(>F)\n",
      "C(Temp)    2.0  9.374893e+04  46874.466667  1.883492  0.164678\n",
      "Residual  42.0  1.045254e+06  24886.996825       NaN       NaN\n"
     ]
    }
   ],
   "source": [
    "formula = 'Response ~ C(Temp)'\n",
    "model = ols(formula, df3).fit()\n",
    "aov_table = anova_lm(model)\n",
    "print(aov_table)"
   ]
  },
  {
   "cell_type": "markdown",
   "id": "054c881d",
   "metadata": {},
   "source": [
    "As P value is more than 0.05 for both types of alloys 1 & 2 thus we accept the null hypothesis as there is not enough evidence to say that there is mean difference among the Temperatures on hardness of dental implant"
   ]
  },
  {
   "cell_type": "markdown",
   "id": "d8d872eb",
   "metadata": {},
   "source": [
    "6. Consider the interaction effect of dentist and method and comment on the interaction plot, separately for the two types of alloys?\n"
   ]
  },
  {
   "cell_type": "markdown",
   "id": "08748b4b",
   "metadata": {},
   "source": [
    "FOR ALLOY TYPE 1"
   ]
  },
  {
   "cell_type": "markdown",
   "id": "514eaf95",
   "metadata": {},
   "source": [
    "**Let us check whether there is any interaction effect between the treatments.**"
   ]
  },
  {
   "cell_type": "code",
   "execution_count": 182,
   "id": "b7723f8b",
   "metadata": {
    "scrolled": true
   },
   "outputs": [
    {
     "data": {
      "image/png": "[encoded data removed]",
      "text/plain": [
       "<Figure size 432x288 with 1 Axes>"
      ]
     },
     "metadata": {
      "needs_background": "light"
     },
     "output_type": "display_data"
    }
   ],
   "source": [
    "sns.pointplot(x='Dentist', y='Response', data=df2, hue='Method',ci=None);"
   ]
  },
  {
   "cell_type": "markdown",
   "id": "31bd9f3a",
   "metadata": {},
   "source": [
    "We can see that there is some sort of interaction between the two treatments for alloy type 1. So, we will introduce a new term while performing the Two Way ANOVA."
   ]
  },
  {
   "cell_type": "markdown",
   "id": "5a665b50",
   "metadata": {},
   "source": [
    "FOR ALLOY TYPE 2"
   ]
  },
  {
   "cell_type": "markdown",
   "id": "5d5f4d01",
   "metadata": {},
   "source": [
    "**Let us check whether there is any interaction effect between the treatments**"
   ]
  },
  {
   "cell_type": "code",
   "execution_count": 185,
   "id": "9807e4c7",
   "metadata": {},
   "outputs": [
    {
     "data": {
      "image/png": "[encoded data removed]",
      "text/plain": [
       "<Figure size 432x288 with 1 Axes>"
      ]
     },
     "metadata": {
      "needs_background": "light"
     },
     "output_type": "display_data"
    }
   ],
   "source": [
    "sns.pointplot(x='Dentist', y='Response', data=df3, hue='Method',ci=None);"
   ]
  },
  {
   "cell_type": "markdown",
   "id": "b44268f3",
   "metadata": {},
   "source": [
    "We can see that there is some sort of interaction between the two treatments for alloy type 2. So, we will introduce a new term while performing the Two Way ANOVA."
   ]
  },
  {
   "cell_type": "markdown",
   "id": "a558d8e1",
   "metadata": {},
   "source": [
    "7. Now consider the effect of both factors, dentist, and method, separately on each alloy. What do you conclude? Is it possible to identify which dentists are different, which methods are different, and which interaction levels are different?"
   ]
  },
  {
   "cell_type": "markdown",
   "id": "45e81274",
   "metadata": {},
   "source": [
    "FOR ALLOY TYPE 1"
   ]
  },
  {
   "cell_type": "code",
   "execution_count": 191,
   "id": "9ebce045",
   "metadata": {
    "scrolled": true
   },
   "outputs": [
    {
     "name": "stdout",
     "output_type": "stream",
     "text": [
      "              df         sum_sq       mean_sq         F    PR(>F)\n",
      "C(Dentist)   4.0  106683.688889  26670.922222  2.591255  0.051875\n",
      "C(Method)    2.0  148472.177778  74236.088889  7.212522  0.002211\n",
      "Residual    38.0  391121.377778  10292.667836       NaN       NaN\n"
     ]
    }
   ],
   "source": [
    "formula = 'Response ~ C(Dentist) + C(Method)'\n",
    "model = ols(formula, df2).fit()\n",
    "aov_table = anova_lm(model)\n",
    "print(aov_table)"
   ]
  },
  {
   "cell_type": "markdown",
   "id": "c7748990",
   "metadata": {},
   "source": [
    "The p-value in the one of the treatments(Dentist) is greater than  𝛼 (0.05) thus we accept the null hypothesis but in case of Method we reject the null hypothesis."
   ]
  },
  {
   "cell_type": "markdown",
   "id": "9bc9b160",
   "metadata": {},
   "source": [
    "FOR ALLOY TYPE 2"
   ]
  },
  {
   "cell_type": "code",
   "execution_count": 192,
   "id": "22b31c0c",
   "metadata": {
    "scrolled": true
   },
   "outputs": [
    {
     "name": "stdout",
     "output_type": "stream",
     "text": [
      "              df         sum_sq        mean_sq          F    PR(>F)\n",
      "C(Dentist)   4.0   56797.911111   14199.477778   0.926215  0.458933\n",
      "C(Method)    2.0  499640.400000  249820.200000  16.295479  0.000008\n",
      "Residual    38.0  582564.488889   15330.644444        NaN       NaN\n"
     ]
    }
   ],
   "source": [
    "formula = 'Response ~ C(Dentist) + C(Method)'\n",
    "model = ols(formula, df3).fit()\n",
    "aov_table = anova_lm(model)\n",
    "print(aov_table)"
   ]
  },
  {
   "cell_type": "markdown",
   "id": "18a2a944",
   "metadata": {},
   "source": [
    "The p-value in the one of the treatments(Dentist) is greater than  𝛼 (0.05) thus we accept the null hypothesis but in case of Method we reject the null hypothesis."
   ]
  },
  {
   "cell_type": "markdown",
   "id": "24d8601a",
   "metadata": {},
   "source": [
    "we will introduce a new term while performing the Two Way ANOVA."
   ]
  },
  {
   "cell_type": "markdown",
   "id": "49d3faf3",
   "metadata": {},
   "source": [
    "FOR ALLOY TYPE 1"
   ]
  },
  {
   "cell_type": "code",
   "execution_count": 194,
   "id": "63cf5ad0",
   "metadata": {},
   "outputs": [
    {
     "name": "stdout",
     "output_type": "stream",
     "text": [
      "                        df         sum_sq       mean_sq          F    PR(>F)\n",
      "C(Dentist)             4.0  106683.688889  26670.922222   3.899638  0.011484\n",
      "C(Method)              2.0  148472.177778  74236.088889  10.854287  0.000284\n",
      "C(Dentist):C(Method)   8.0  185941.377778  23242.672222   3.398383  0.006793\n",
      "Residual              30.0  205180.000000   6839.333333        NaN       NaN\n"
     ]
    }
   ],
   "source": [
    "formula = 'Response ~ C(Dentist) + C(Method) + C(Dentist):C(Method)'\n",
    "model = ols(formula, df2).fit()\n",
    "aov_table = anova_lm(model)\n",
    "print(aov_table)"
   ]
  },
  {
   "cell_type": "markdown",
   "id": "12dc62bf",
   "metadata": {},
   "source": [
    "**Due to the inclusion of the interaction effect term, we can see a slight change in the p-value of the first two treatments as compared to the Two-Way ANOVA without the interaction effect terms. We see that the p-value of the interaction effect term of 'Dentist' and 'Method' suggests that the Null Hypothesis is rejected for alloy type 1 in this case.**"
   ]
  },
  {
   "cell_type": "markdown",
   "id": "c0814045",
   "metadata": {},
   "source": [
    "FOR ALLOY TYPE 2"
   ]
  },
  {
   "cell_type": "code",
   "execution_count": 195,
   "id": "b06fd350",
   "metadata": {},
   "outputs": [
    {
     "name": "stdout",
     "output_type": "stream",
     "text": [
      "                        df         sum_sq        mean_sq          F    PR(>F)\n",
      "C(Dentist)             4.0   56797.911111   14199.477778   1.106152  0.371833\n",
      "C(Method)              2.0  499640.400000  249820.200000  19.461218  0.000004\n",
      "C(Dentist):C(Method)   8.0  197459.822222   24682.477778   1.922787  0.093234\n",
      "Residual              30.0  385104.666667   12836.822222        NaN       NaN\n"
     ]
    }
   ],
   "source": [
    "formula = 'Response ~ C(Dentist) + C(Method) + C(Dentist):C(Method)'\n",
    "model = ols(formula, df3).fit()\n",
    "aov_table = anova_lm(model)\n",
    "print(aov_table)"
   ]
  },
  {
   "cell_type": "markdown",
   "id": "a0a674ca",
   "metadata": {},
   "source": [
    "**Due to the inclusion of the interaction effect term, we can see a slight change in the p-value of the first two treatments as compared to the Two-Way ANOVA without the interaction effect terms.We see that the p-value of the interaction effect term of 'Dentist' and 'Method' suggests that the Null Hypothesis is accepted for alloy type 2 in this case.**"
   ]
  },
  {
   "cell_type": "code",
   "execution_count": null,
   "id": "549078e5",
   "metadata": {},
   "outputs": [],
   "source": []
  }
 ],
 "metadata": {
  "kernelspec": {
   "display_name": "Python 3 (ipykernel)",
   "language": "python",
   "name": "python3"
  },
  "language_info": {
   "codemirror_mode": {
    "name": "ipython",
    "version": 3
   },
   "file_extension": ".py",
   "mimetype": "text/x-python",
   "name": "python",
   "nbconvert_exporter": "python",
   "pygments_lexer": "ipython3",
   "version": "3.9.12"
  }
 },
 "nbformat": 4,
 "nbformat_minor": 5
}
